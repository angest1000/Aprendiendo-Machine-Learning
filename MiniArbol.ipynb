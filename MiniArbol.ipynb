{
 "cells": [
  {
   "cell_type": "code",
   "execution_count": 4,
   "metadata": {},
   "outputs": [
    {
     "name": "stdout",
     "output_type": "stream",
     "text": [
      "['mini sandia']\n"
     ]
    }
   ],
   "source": [
    "#Un código muy simple de como\n",
    "#Crear un pequeño arbol de desicion\n",
    "\n",
    "#Código extraido del siguiente tutorial:\n",
    "#https://www.youtube.com/watch?v=gZvdtodOaHk&t=0s\n",
    "\n",
    "#importamos librerias\n",
    "import numpy as np\n",
    "from sklearn import tree\n",
    "\n",
    "#agregamos nuestro dataset\n",
    "#atributos=[[150,\"desigual\"],\n",
    "#           [170,\"desigual\"],\n",
    "#           [140,\"suave\"],\n",
    "#           [130,\"suave\"]]  #q suave 0 desigual\n",
    "\n",
    "atributos=[[150,0],\n",
    "           [170,0],\n",
    "           [140,1],\n",
    "           [130,1]]\n",
    "\n",
    "etiquetas=[\"piña\",\"piña\",\"mini sandia\",\"mini sandia\"]\n",
    "\n",
    "#Creando el clasificador\n",
    "clasificador = tree.DecisionTreeClassifier()\n",
    "clasificador = clasificador.fit(atributos,etiquetas)\n",
    "\n",
    "print(clasificador.predict([[130,0]]))"
   ]
  }
 ],
 "metadata": {
  "kernelspec": {
   "display_name": "Python 3",
   "language": "python",
   "name": "python3"
  },
  "language_info": {
   "codemirror_mode": {
    "name": "ipython",
    "version": 3
   },
   "file_extension": ".py",
   "mimetype": "text/x-python",
   "name": "python",
   "nbconvert_exporter": "python",
   "pygments_lexer": "ipython3",
   "version": "3.7.1"
  }
 },
 "nbformat": 4,
 "nbformat_minor": 2
}
