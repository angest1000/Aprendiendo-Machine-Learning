{
 "cells": [
  {
   "cell_type": "markdown",
   "metadata": {},
   "source": [
    "Regresion lineal con sklearn"
   ]
  },
  {
   "cell_type": "markdown",
   "metadata": {},
   "source": [
    "código generado desde el siguiente tutorial:\n",
    "\n",
    "https://www.youtube.com/watch?v=b4zmSqB9npI&list=WL&index=18&t=615s\n",
    "\n",
    "El problema está planteado en que \n",
    "se cree que existe una relación entre la calificación\n",
    "de una pelicula y el número de likes que se les da\n",
    "en facebook\n"
   ]
  },
  {
   "cell_type": "code",
   "execution_count": 11,
   "metadata": {},
   "outputs": [
    {
     "name": "stderr",
     "output_type": "stream",
     "text": [
      "/home/angel/anaconda3/lib/python3.7/site-packages/matplotlib/font_manager.py:281: UserWarning: Matplotlib is building the font cache using fc-list. This may take a moment.\n",
      "  'Matplotlib is building the font cache using fc-list. '\n"
     ]
    }
   ],
   "source": [
    "\n",
    "#importamos librerias\n",
    "import pandas as pd\n",
    "import numpy as np\n",
    "from sklearn import linear_model\n",
    "from sklearn.metrics import r2_score #R^2 para la regresión\n",
    "import matplotlib.pyplot as plt"
   ]
  },
  {
   "cell_type": "code",
   "execution_count": 4,
   "metadata": {},
   "outputs": [],
   "source": [
    "#Modelo de regresion lineal\n",
    "reg=linear_model.LinearRegression()"
   ]
  },
  {
   "cell_type": "code",
   "execution_count": 7,
   "metadata": {},
   "outputs": [],
   "source": [
    "#dataset de imdb sobre las peliculas\n",
    "\n",
    "datos=pd.read_csv('movies.csv')\n",
    "df=pd.DataFrame(datos)\n",
    "x=df['movie_facebook_likes']  #Variable dependiente\n",
    "y=df['imdb_score'] #Variable de respuesta"
   ]
  },
  {
   "cell_type": "code",
   "execution_count": 8,
   "metadata": {},
   "outputs": [
    {
     "name": "stdout",
     "output_type": "stream",
     "text": [
      "[[ 33000]\n",
      " [     0]\n",
      " [ 85000]\n",
      " [164000]\n",
      " [     0]\n",
      " [ 24000]\n",
      " [     0]\n",
      " [ 29000]\n",
      " [118000]\n",
      " [ 10000]\n",
      " [197000]\n",
      " [     0]\n",
      " [     0]\n",
      " [  5000]\n",
      " [ 48000]]\n"
     ]
    }
   ],
   "source": [
    "X=x[:,np.newaxis] #Le da formato de arreglo a los datos\n",
    "print(X)"
   ]
  },
  {
   "cell_type": "code",
   "execution_count": 15,
   "metadata": {},
   "outputs": [
    {
     "name": "stdout",
     "output_type": "stream",
     "text": [
      "LinearRegression(copy_X=True, fit_intercept=True, n_jobs=1, normalize=False)\n",
      "[3.84816446e-06]\n",
      "Modelo de Regresión: y=3.848164464699828e-06*x+6.917083915777934\n"
     ]
    }
   ],
   "source": [
    "print(reg.fit(X,y))\n",
    "print(reg.coef_)\n",
    "m=reg.coef_[0]\n",
    "b=reg.intercept_\n",
    "print('Modelo de Regresión: y={0}*x+{1}'.format(m,b))"
   ]
  },
  {
   "cell_type": "code",
   "execution_count": 10,
   "metadata": {},
   "outputs": [
    {
     "name": "stdout",
     "output_type": "stream",
     "text": [
      "[7.04407334 6.91708392 7.2441779  7.54818289 6.91708392]\n"
     ]
    }
   ],
   "source": [
    "print(reg.predict(X)[0:5])"
   ]
  },
  {
   "cell_type": "code",
   "execution_count": 12,
   "metadata": {},
   "outputs": [
    {
     "name": "stdout",
     "output_type": "stream",
     "text": [
      "R² =  0.13918361083362363\n"
     ]
    }
   ],
   "source": [
    "y_p=m*X+b #Valor pronosticado\n",
    "\n",
    "#Valor de R cuadrada\n",
    "print(\"R² = \",r2_score(y,y_p))"
   ]
  },
  {
   "cell_type": "code",
   "execution_count": 14,
   "metadata": {},
   "outputs": [
    {
     "data": {
      "text/plain": [
       "Text(0,0.5,'Calificación')"
      ]
     },
     "execution_count": 14,
     "metadata": {},
     "output_type": "execute_result"
    },
    {
     "data": {
      "image/png": "[encoded data removed]",
      "text/plain": [
       "<Figure size 432x288 with 1 Axes>"
      ]
     },
     "metadata": {
      "needs_background": "light"
     },
     "output_type": "display_data"
    }
   ],
   "source": [
    "#Visualizando en una grafica\n",
    "plt.scatter(x,y,color='blue')\n",
    "plt.plot(x,y_p,color='red')\n",
    "plt.title(\"Regresion Lineal\", fontsize=16)\n",
    "plt.xlabel(\"Likes en FB\", fontsize=13)\n",
    "plt.ylabel(\"Calificación\", fontsize=13)"
   ]
  }
 ],
 "metadata": {
  "kernelspec": {
   "display_name": "Python 3",
   "language": "python",
   "name": "python3"
  },
  "language_info": {
   "codemirror_mode": {
    "name": "ipython",
    "version": 3
   },
   "file_extension": ".py",
   "mimetype": "text/x-python",
   "name": "python",
   "nbconvert_exporter": "python",
   "pygments_lexer": "ipython3",
   "version": "3.7.0"
  }
 },
 "nbformat": 4,
 "nbformat_minor": 2
}
