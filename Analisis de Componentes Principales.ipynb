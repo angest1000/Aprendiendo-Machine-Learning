{
 "cells": [
  {
   "cell_type": "markdown",
   "metadata": {},
   "source": [
    "Método de componentes principales"
   ]
  },
  {
   "cell_type": "markdown",
   "metadata": {},
   "source": [
    "El método de componentes principales consiste en identificar caules son las variables que aportan mayor información para poder reducir dimensiones, extrayendo caracteristicas, o incluso creando nuevas variaibles que son combinaciones lineales de otras, consolidando la información sin eliminar por completo las variables."
   ]
  },
  {
   "cell_type": "markdown",
   "metadata": {},
   "source": [
    "¿Qué es Principal Component Analysis?\n",
    "\n",
    "Es una técnica de Extracción de Características, \n",
    "donde combinamos las entradas de una manera específica \n",
    "y podemos eliminar algunas de las variables \n",
    "“menos importantes” manteniendo la parte más \n",
    "importante todas las variables. Como valor añadido, \n",
    "luego de aplicar PCA conseguiremos que todas las \n",
    "nuevas variables sean independientes una de otra."
   ]
  },
  {
   "cell_type": "markdown",
   "metadata": {},
   "source": [
    "¿Como funciona el Analisis de Componentes Principales?"
   ]
  },
  {
   "cell_type": "markdown",
   "metadata": {},
   "source": [
    "\n",
    "En resumen lo que hace el algoritmo es:\n",
    "\n",
    "*Estandarizar los datos de entrada (ó Normalización de las Variables)\n",
    "\n",
    "*Obtener los autovectores y autovalores de la matriz de covarianza\n",
    "\n",
    "*Ordenar los autovalores de mayor a menor y elegir los “k” autovectores que se correspondan con los autovectores “k” más grandes (donde “k” es el número de dimensiones del nuevo subespacio de características).\n",
    "\n",
    "*Construir la matriz de proyección W con los “k” autovectores seleccionados.\n",
    "    \n",
    "*Transformamos el dataset original “X estandarizado” vía W para obtener las nuevas características k-dimensionales.\n"
   ]
  },
  {
   "cell_type": "code",
   "execution_count": 1,
   "metadata": {},
   "outputs": [],
   "source": [
    "#Ejercicio extraido del siguiente blog:\n",
    "#http://www.aprendemachinelearning.com/comprende-principal-component-analysis/\n"
   ]
  },
  {
   "cell_type": "code",
   "execution_count": 3,
   "metadata": {},
   "outputs": [],
   "source": [
    "#librerias\n",
    "import pandas as pd\n",
    "import numpy as np\n",
    "import matplotlib.pyplot as plt\n",
    "%matplotlib inline\n",
    "plt.rcParams['figure.figsize']=(16,9)\n",
    "plt.style.use('ggplot')\n",
    "from sklearn.decomposition import PCA\n",
    "from sklearn.preprocessing import StandardScaler"
   ]
  },
  {
   "cell_type": "code",
   "execution_count": 5,
   "metadata": {},
   "outputs": [
    {
     "data": {
      "text/html": [
       "<div>\n",
       "<style scoped>\n",
       "    .dataframe tbody tr th:only-of-type {\n",
       "        vertical-align: middle;\n",
       "    }\n",
       "\n",
       "    .dataframe tbody tr th {\n",
       "        vertical-align: top;\n",
       "    }\n",
       "\n",
       "    .dataframe thead th {\n",
       "        text-align: right;\n",
       "    }\n",
       "</style>\n",
       "<table border=\"1\" class=\"dataframe\">\n",
       "  <thead>\n",
       "    <tr style=\"text-align: right;\">\n",
       "      <th></th>\n",
       "      <th>ingresos</th>\n",
       "      <th>gastos_comunes</th>\n",
       "      <th>pago_coche</th>\n",
       "      <th>gastos_otros</th>\n",
       "      <th>ahorros</th>\n",
       "      <th>vivienda</th>\n",
       "      <th>estado_civil</th>\n",
       "      <th>hijos</th>\n",
       "      <th>trabajo</th>\n",
       "      <th>comprar</th>\n",
       "    </tr>\n",
       "  </thead>\n",
       "  <tbody>\n",
       "    <tr>\n",
       "      <th>0</th>\n",
       "      <td>6000</td>\n",
       "      <td>1000</td>\n",
       "      <td>0</td>\n",
       "      <td>600</td>\n",
       "      <td>50000</td>\n",
       "      <td>400000</td>\n",
       "      <td>0</td>\n",
       "      <td>2</td>\n",
       "      <td>2</td>\n",
       "      <td>1</td>\n",
       "    </tr>\n",
       "    <tr>\n",
       "      <th>1</th>\n",
       "      <td>6745</td>\n",
       "      <td>944</td>\n",
       "      <td>123</td>\n",
       "      <td>429</td>\n",
       "      <td>43240</td>\n",
       "      <td>636897</td>\n",
       "      <td>1</td>\n",
       "      <td>3</td>\n",
       "      <td>6</td>\n",
       "      <td>0</td>\n",
       "    </tr>\n",
       "    <tr>\n",
       "      <th>2</th>\n",
       "      <td>6455</td>\n",
       "      <td>1033</td>\n",
       "      <td>98</td>\n",
       "      <td>795</td>\n",
       "      <td>57463</td>\n",
       "      <td>321779</td>\n",
       "      <td>2</td>\n",
       "      <td>1</td>\n",
       "      <td>8</td>\n",
       "      <td>1</td>\n",
       "    </tr>\n",
       "    <tr>\n",
       "      <th>3</th>\n",
       "      <td>7098</td>\n",
       "      <td>1278</td>\n",
       "      <td>15</td>\n",
       "      <td>254</td>\n",
       "      <td>54506</td>\n",
       "      <td>660933</td>\n",
       "      <td>0</td>\n",
       "      <td>0</td>\n",
       "      <td>3</td>\n",
       "      <td>0</td>\n",
       "    </tr>\n",
       "    <tr>\n",
       "      <th>4</th>\n",
       "      <td>6167</td>\n",
       "      <td>863</td>\n",
       "      <td>223</td>\n",
       "      <td>520</td>\n",
       "      <td>41512</td>\n",
       "      <td>348932</td>\n",
       "      <td>0</td>\n",
       "      <td>0</td>\n",
       "      <td>3</td>\n",
       "      <td>1</td>\n",
       "    </tr>\n",
       "    <tr>\n",
       "      <th>5</th>\n",
       "      <td>5692</td>\n",
       "      <td>911</td>\n",
       "      <td>11</td>\n",
       "      <td>325</td>\n",
       "      <td>50875</td>\n",
       "      <td>360863</td>\n",
       "      <td>1</td>\n",
       "      <td>4</td>\n",
       "      <td>5</td>\n",
       "      <td>1</td>\n",
       "    </tr>\n",
       "    <tr>\n",
       "      <th>6</th>\n",
       "      <td>6830</td>\n",
       "      <td>1298</td>\n",
       "      <td>345</td>\n",
       "      <td>309</td>\n",
       "      <td>46761</td>\n",
       "      <td>429812</td>\n",
       "      <td>1</td>\n",
       "      <td>1</td>\n",
       "      <td>5</td>\n",
       "      <td>1</td>\n",
       "    </tr>\n",
       "    <tr>\n",
       "      <th>7</th>\n",
       "      <td>6470</td>\n",
       "      <td>1035</td>\n",
       "      <td>39</td>\n",
       "      <td>782</td>\n",
       "      <td>57439</td>\n",
       "      <td>606291</td>\n",
       "      <td>0</td>\n",
       "      <td>0</td>\n",
       "      <td>1</td>\n",
       "      <td>0</td>\n",
       "    </tr>\n",
       "    <tr>\n",
       "      <th>8</th>\n",
       "      <td>6251</td>\n",
       "      <td>1250</td>\n",
       "      <td>209</td>\n",
       "      <td>571</td>\n",
       "      <td>50503</td>\n",
       "      <td>291010</td>\n",
       "      <td>0</td>\n",
       "      <td>0</td>\n",
       "      <td>3</td>\n",
       "      <td>1</td>\n",
       "    </tr>\n",
       "    <tr>\n",
       "      <th>9</th>\n",
       "      <td>6987</td>\n",
       "      <td>1258</td>\n",
       "      <td>252</td>\n",
       "      <td>245</td>\n",
       "      <td>40611</td>\n",
       "      <td>324098</td>\n",
       "      <td>2</td>\n",
       "      <td>1</td>\n",
       "      <td>7</td>\n",
       "      <td>1</td>\n",
       "    </tr>\n",
       "  </tbody>\n",
       "</table>\n",
       "</div>"
      ],
      "text/plain": [
       "   ingresos  gastos_comunes  pago_coche  gastos_otros  ahorros  vivienda  \\\n",
       "0      6000            1000           0           600    50000    400000   \n",
       "1      6745             944         123           429    43240    636897   \n",
       "2      6455            1033          98           795    57463    321779   \n",
       "3      7098            1278          15           254    54506    660933   \n",
       "4      6167             863         223           520    41512    348932   \n",
       "5      5692             911          11           325    50875    360863   \n",
       "6      6830            1298         345           309    46761    429812   \n",
       "7      6470            1035          39           782    57439    606291   \n",
       "8      6251            1250         209           571    50503    291010   \n",
       "9      6987            1258         252           245    40611    324098   \n",
       "\n",
       "   estado_civil  hijos  trabajo  comprar  \n",
       "0             0      2        2        1  \n",
       "1             1      3        6        0  \n",
       "2             2      1        8        1  \n",
       "3             0      0        3        0  \n",
       "4             0      0        3        1  \n",
       "5             1      4        5        1  \n",
       "6             1      1        5        1  \n",
       "7             0      0        1        0  \n",
       "8             0      0        3        1  \n",
       "9             2      1        7        1  "
      ]
     },
     "execution_count": 5,
     "metadata": {},
     "output_type": "execute_result"
    }
   ],
   "source": [
    "#Dataframe para trabajar\n",
    "dataframe=pd.read_csv(r\"comprar_alquilar.csv\")\n",
    "dataframe.head(10)"
   ]
  },
  {
   "cell_type": "code",
   "execution_count": 7,
   "metadata": {},
   "outputs": [],
   "source": [
    "#Normalizando los datos\n",
    "scaler = StandardScaler()\n",
    "#Eliminamos la variable de respuesta\n",
    "df = dataframe.drop(['comprar'],axis=1)\n",
    "#Calculamos la media para la transformación\n",
    "scaler.fit(df)\n",
    "#Escalamos y normalizamos datos\n",
    "xscaled = scaler.transform(df)\n"
   ]
  },
  {
   "cell_type": "code",
   "execution_count": 9,
   "metadata": {},
   "outputs": [],
   "source": [
    "#Instanciamos objeto PCA y aplicamos\n",
    "\n",
    "pca=PCA(n_components = 9)\n",
    "#Nota: También se puede instanciar pca sólo \n",
    "#con el mínimo explicado que requerimos \n",
    "#Ej.: pca=PCA(.85\n",
    "\n",
    "#Obtenemos los componentes principales\n",
    "pca.fit(xscaled)\n",
    "#Convertimos los datos con las nuevas dimensiones\n",
    "x_pca = pca.transform(xscaled)"
   ]
  },
  {
   "cell_type": "code",
   "execution_count": 13,
   "metadata": {},
   "outputs": [
    {
     "name": "stdout",
     "output_type": "stream",
     "text": [
      "Aspecto de  X PCA:  (202, 9)\n",
      "[0.29913557 0.23294923 0.11711241 0.10685622 0.09635279 0.05629866\n",
      " 0.04145579 0.03017819 0.01966115]\n",
      "suma de variación explicada:  0.8524062117714312\n"
     ]
    }
   ],
   "source": [
    "print(\"Aspecto de  X PCA: \",x_pca.shape)\n",
    "#Tenemos que x_pca contiene 202 registros y 9 columnas\n",
    "\n",
    "expl = pca.explained_variance_ratio_\n",
    "\n",
    "print(expl)\n",
    "print(\"suma de variación explicada: \", sum(expl[0:5]))\n",
    "#Podemos ver que con 5 componentes podemos\n",
    "#explicar poco más del 85% de la variación"
   ]
  },
  {
   "cell_type": "code",
   "execution_count": 19,
   "metadata": {
    "scrolled": true
   },
   "outputs": [
    {
     "data": {
      "image/png": "[encoded data removed]",
      "text/plain": [
       "<Figure size 1152x648 with 1 Axes>"
      ]
     },
     "metadata": {},
     "output_type": "display_data"
    }
   ],
   "source": [
    "#Grafiquemos la variación acumulada en \n",
    "#las nuevas dimensiones\n",
    "plt.plot(np.cumsum(pca.explained_variance_ratio_))\n",
    "plt.xlabel(\"Número de Componentes\",fontsize=14)\n",
    "plt.ylabel(\"Variación Explicada Acumulada\",fontsize=14)\n",
    "plt.show()"
   ]
  },
  {
   "cell_type": "code",
   "execution_count": 18,
   "metadata": {},
   "outputs": [
    {
     "data": {
      "image/png": "[encoded data removed]",
      "text/plain": [
       "<Figure size 504x360 with 1 Axes>"
      ]
     },
     "metadata": {},
     "output_type": "display_data"
    }
   ],
   "source": [
    "#Graficamos en 2 dimensiones los 2 primeros \n",
    "#Componentes Principales\n",
    "Xax = x_pca[:,0]\n",
    "Yax = x_pca[:,1]\n",
    "#Valores a graficar\n",
    "labels = dataframe[\"comprar\"].values\n",
    "#Color para los puntos\n",
    "cdict = {0:\"red\",1:\"green\"}\n",
    "#Descriptivo de los puntos graficados\n",
    "labl = {0:\"Alquilar\",1:\"Comprar\"}\n",
    "#Tipo de punto a graficar\n",
    "marker = {0:\"*\",1:\"o\"}\n",
    "alpha = {0:.3, 1:.5}\n",
    "fig,ax = plt.subplots(figsize = (7,5))\n",
    "fig.patch.set_facecolor(\"white\")\n",
    "for l in np.unique(labels):\n",
    "    ix = np.where(labels == l)\n",
    "    ax.scatter(Xax[ix],Yax[ix], c = cdict[l],label = labl[l],s=40,marker = marker[l],alpha=alpha[l])\n",
    "\n",
    "plt.xlabel(\"Primer Componente Principal\",fontsize=14)\n",
    "plt.ylabel(\"Segunda Componente Principal\",fontsize=14)\n",
    "plt.legend()\n",
    "plt.show()"
   ]
  }
 ],
 "metadata": {
  "kernelspec": {
   "display_name": "Python 3",
   "language": "python",
   "name": "python3"
  },
  "language_info": {
   "codemirror_mode": {
    "name": "ipython",
    "version": 3
   },
   "file_extension": ".py",
   "mimetype": "text/x-python",
   "name": "python",
   "nbconvert_exporter": "python",
   "pygments_lexer": "ipython3",
   "version": "3.7.0"
  }
 },
 "nbformat": 4,
 "nbformat_minor": 2
}
