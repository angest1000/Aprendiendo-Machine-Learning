{
 "cells": [
  {
   "cell_type": "code",
   "execution_count": null,
   "metadata": {},
   "outputs": [],
   "source": [
    "#Arbol de Desicion en Python\n",
    "\n",
    "#Codigo extraido del siguiente tutorial:\n",
    "#    https://www.youtube.com/watch?v=tNa99PG8hR8\n",
    "\n",
    "#Utilizaremos el clasico dataset de Iris\n",
    "\n",
    "#set de datos\n",
    "from sklearn.datasets import load_iris\n",
    "iris=load_iris()\n",
    "print(iris.feature_names)\n",
    "print(iris.target_names)\n",
    "print(iris.data[0])\n",
    "print(iris.target[0])\n",
    "for i in range(len(iris.target)):\n",
    "    print(\"Ejemplo %d: label %s, features %s\" % (i,iris.target[i],iris.data[i]))"
   ]
  },
  {
   "cell_type": "code",
   "execution_count": null,
   "metadata": {},
   "outputs": [],
   "source": [
    "import numpy as np\n",
    "from sklearn.tree import DecisionTreeClassifier, export_graphviz\n",
    "test_idx=[0,50,100]\n",
    "\n",
    "#Set de entrenamiento\n",
    "train_target = np.delete(iris.target,test_idx)\n",
    "train_data = np.delete(iris.data,test_idx,axis = 0)\n",
    "\n",
    "#Set de prueba\n",
    "test_target = iris.target[test_idx]\n",
    "test_data = iris.data[test_idx]\n",
    "\n",
    "arbol = DecisionTreeClassifier()\n",
    "arbol.fit(train_data,train_target)"
   ]
  },
  {
   "cell_type": "code",
   "execution_count": null,
   "metadata": {},
   "outputs": [],
   "source": [
    "print(test_target)\n",
    "print(arbol.predict(test_data))"
   ]
  },
  {
   "cell_type": "code",
   "execution_count": null,
   "metadata": {},
   "outputs": [],
   "source": [
    "#Visualicemos el arbol de decicion\n",
    "#Si aparece error de graphviz ejecutar en Anaconda Prompt lo siguiente:\n",
    "# conda install graphviz\n",
    "# conda install python-graphviz\n",
    "from sklearn.externals.six import StringIO\n",
    "import pydot\n",
    "import graphviz\n",
    "\n",
    "dot_data=StringIO()\n",
    "graf = export_graphviz(arbol,\n",
    "                     out_file=None,\n",
    "                     feature_names=iris.feature_names,\n",
    "                     class_names=iris.target_names,\n",
    "                     filled=True,\n",
    "                     rounded=True,\n",
    "                     impurity=False)\n",
    "grafica = graphviz.Source(graf)\n",
    "grafica"
   ]
  },
  {
   "cell_type": "code",
   "execution_count": null,
   "metadata": {},
   "outputs": [],
   "source": [
    "print(test_data[0],test_target[0])\n",
    "print(iris.feature_names,iris.target_names)"
   ]
  },
  {
   "cell_type": "code",
   "execution_count": null,
   "metadata": {},
   "outputs": [],
   "source": [
    "print(test_data[1],test_target[1])\n",
    "print(iris.feature_names,iris.target_names)"
   ]
  }
 ],
 "metadata": {
  "kernelspec": {
   "display_name": "Python 3",
   "language": "python",
   "name": "python3"
  },
  "language_info": {
   "codemirror_mode": {
    "name": "ipython",
    "version": 3
   },
   "file_extension": ".py",
   "mimetype": "text/x-python",
   "name": "python",
   "nbconvert_exporter": "python",
   "pygments_lexer": "ipython3",
   "version": "3.7.1"
  }
 },
 "nbformat": 4,
 "nbformat_minor": 2
}
