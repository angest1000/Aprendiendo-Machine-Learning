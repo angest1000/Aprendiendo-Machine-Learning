{
 "cells": [
  {
   "cell_type": "code",
   "execution_count": 3,
   "metadata": {},
   "outputs": [
    {
     "name": "stdout",
     "output_type": "stream",
     "text": [
      "['sepal length (cm)', 'sepal width (cm)', 'petal length (cm)', 'petal width (cm)']\n",
      "['setosa' 'versicolor' 'virginica']\n",
      "[5.1 3.5 1.4 0.2]\n",
      "0\n",
      "Ejemplo 0: label 0, features [5.1 3.5 1.4 0.2]\n",
      "Ejemplo 1: label 0, features [4.9 3.  1.4 0.2]\n",
      "Ejemplo 2: label 0, features [4.7 3.2 1.3 0.2]\n",
      "Ejemplo 3: label 0, features [4.6 3.1 1.5 0.2]\n",
      "Ejemplo 4: label 0, features [5.  3.6 1.4 0.2]\n",
      "Ejemplo 5: label 0, features [5.4 3.9 1.7 0.4]\n",
      "Ejemplo 6: label 0, features [4.6 3.4 1.4 0.3]\n",
      "Ejemplo 7: label 0, features [5.  3.4 1.5 0.2]\n",
      "Ejemplo 8: label 0, features [4.4 2.9 1.4 0.2]\n",
      "Ejemplo 9: label 0, features [4.9 3.1 1.5 0.1]\n",
      "Ejemplo 10: label 0, features [5.4 3.7 1.5 0.2]\n",
      "Ejemplo 11: label 0, features [4.8 3.4 1.6 0.2]\n",
      "Ejemplo 12: label 0, features [4.8 3.  1.4 0.1]\n",
      "Ejemplo 13: label 0, features [4.3 3.  1.1 0.1]\n",
      "Ejemplo 14: label 0, features [5.8 4.  1.2 0.2]\n",
      "Ejemplo 15: label 0, features [5.7 4.4 1.5 0.4]\n",
      "Ejemplo 16: label 0, features [5.4 3.9 1.3 0.4]\n",
      "Ejemplo 17: label 0, features [5.1 3.5 1.4 0.3]\n",
      "Ejemplo 18: label 0, features [5.7 3.8 1.7 0.3]\n",
      "Ejemplo 19: label 0, features [5.1 3.8 1.5 0.3]\n",
      "Ejemplo 20: label 0, features [5.4 3.4 1.7 0.2]\n",
      "Ejemplo 21: label 0, features [5.1 3.7 1.5 0.4]\n",
      "Ejemplo 22: label 0, features [4.6 3.6 1.  0.2]\n",
      "Ejemplo 23: label 0, features [5.1 3.3 1.7 0.5]\n",
      "Ejemplo 24: label 0, features [4.8 3.4 1.9 0.2]\n",
      "Ejemplo 25: label 0, features [5.  3.  1.6 0.2]\n",
      "Ejemplo 26: label 0, features [5.  3.4 1.6 0.4]\n",
      "Ejemplo 27: label 0, features [5.2 3.5 1.5 0.2]\n",
      "Ejemplo 28: label 0, features [5.2 3.4 1.4 0.2]\n",
      "Ejemplo 29: label 0, features [4.7 3.2 1.6 0.2]\n",
      "Ejemplo 30: label 0, features [4.8 3.1 1.6 0.2]\n",
      "Ejemplo 31: label 0, features [5.4 3.4 1.5 0.4]\n",
      "Ejemplo 32: label 0, features [5.2 4.1 1.5 0.1]\n",
      "Ejemplo 33: label 0, features [5.5 4.2 1.4 0.2]\n",
      "Ejemplo 34: label 0, features [4.9 3.1 1.5 0.1]\n",
      "Ejemplo 35: label 0, features [5.  3.2 1.2 0.2]\n",
      "Ejemplo 36: label 0, features [5.5 3.5 1.3 0.2]\n",
      "Ejemplo 37: label 0, features [4.9 3.1 1.5 0.1]\n",
      "Ejemplo 38: label 0, features [4.4 3.  1.3 0.2]\n",
      "Ejemplo 39: label 0, features [5.1 3.4 1.5 0.2]\n",
      "Ejemplo 40: label 0, features [5.  3.5 1.3 0.3]\n",
      "Ejemplo 41: label 0, features [4.5 2.3 1.3 0.3]\n",
      "Ejemplo 42: label 0, features [4.4 3.2 1.3 0.2]\n",
      "Ejemplo 43: label 0, features [5.  3.5 1.6 0.6]\n",
      "Ejemplo 44: label 0, features [5.1 3.8 1.9 0.4]\n",
      "Ejemplo 45: label 0, features [4.8 3.  1.4 0.3]\n",
      "Ejemplo 46: label 0, features [5.1 3.8 1.6 0.2]\n",
      "Ejemplo 47: label 0, features [4.6 3.2 1.4 0.2]\n",
      "Ejemplo 48: label 0, features [5.3 3.7 1.5 0.2]\n",
      "Ejemplo 49: label 0, features [5.  3.3 1.4 0.2]\n",
      "Ejemplo 50: label 1, features [7.  3.2 4.7 1.4]\n",
      "Ejemplo 51: label 1, features [6.4 3.2 4.5 1.5]\n",
      "Ejemplo 52: label 1, features [6.9 3.1 4.9 1.5]\n",
      "Ejemplo 53: label 1, features [5.5 2.3 4.  1.3]\n",
      "Ejemplo 54: label 1, features [6.5 2.8 4.6 1.5]\n",
      "Ejemplo 55: label 1, features [5.7 2.8 4.5 1.3]\n",
      "Ejemplo 56: label 1, features [6.3 3.3 4.7 1.6]\n",
      "Ejemplo 57: label 1, features [4.9 2.4 3.3 1. ]\n",
      "Ejemplo 58: label 1, features [6.6 2.9 4.6 1.3]\n",
      "Ejemplo 59: label 1, features [5.2 2.7 3.9 1.4]\n",
      "Ejemplo 60: label 1, features [5.  2.  3.5 1. ]\n",
      "Ejemplo 61: label 1, features [5.9 3.  4.2 1.5]\n",
      "Ejemplo 62: label 1, features [6.  2.2 4.  1. ]\n",
      "Ejemplo 63: label 1, features [6.1 2.9 4.7 1.4]\n",
      "Ejemplo 64: label 1, features [5.6 2.9 3.6 1.3]\n",
      "Ejemplo 65: label 1, features [6.7 3.1 4.4 1.4]\n",
      "Ejemplo 66: label 1, features [5.6 3.  4.5 1.5]\n",
      "Ejemplo 67: label 1, features [5.8 2.7 4.1 1. ]\n",
      "Ejemplo 68: label 1, features [6.2 2.2 4.5 1.5]\n",
      "Ejemplo 69: label 1, features [5.6 2.5 3.9 1.1]\n",
      "Ejemplo 70: label 1, features [5.9 3.2 4.8 1.8]\n",
      "Ejemplo 71: label 1, features [6.1 2.8 4.  1.3]\n",
      "Ejemplo 72: label 1, features [6.3 2.5 4.9 1.5]\n",
      "Ejemplo 73: label 1, features [6.1 2.8 4.7 1.2]\n",
      "Ejemplo 74: label 1, features [6.4 2.9 4.3 1.3]\n",
      "Ejemplo 75: label 1, features [6.6 3.  4.4 1.4]\n",
      "Ejemplo 76: label 1, features [6.8 2.8 4.8 1.4]\n",
      "Ejemplo 77: label 1, features [6.7 3.  5.  1.7]\n",
      "Ejemplo 78: label 1, features [6.  2.9 4.5 1.5]\n",
      "Ejemplo 79: label 1, features [5.7 2.6 3.5 1. ]\n",
      "Ejemplo 80: label 1, features [5.5 2.4 3.8 1.1]\n",
      "Ejemplo 81: label 1, features [5.5 2.4 3.7 1. ]\n",
      "Ejemplo 82: label 1, features [5.8 2.7 3.9 1.2]\n",
      "Ejemplo 83: label 1, features [6.  2.7 5.1 1.6]\n",
      "Ejemplo 84: label 1, features [5.4 3.  4.5 1.5]\n",
      "Ejemplo 85: label 1, features [6.  3.4 4.5 1.6]\n",
      "Ejemplo 86: label 1, features [6.7 3.1 4.7 1.5]\n",
      "Ejemplo 87: label 1, features [6.3 2.3 4.4 1.3]\n",
      "Ejemplo 88: label 1, features [5.6 3.  4.1 1.3]\n",
      "Ejemplo 89: label 1, features [5.5 2.5 4.  1.3]\n",
      "Ejemplo 90: label 1, features [5.5 2.6 4.4 1.2]\n",
      "Ejemplo 91: label 1, features [6.1 3.  4.6 1.4]\n",
      "Ejemplo 92: label 1, features [5.8 2.6 4.  1.2]\n",
      "Ejemplo 93: label 1, features [5.  2.3 3.3 1. ]\n",
      "Ejemplo 94: label 1, features [5.6 2.7 4.2 1.3]\n",
      "Ejemplo 95: label 1, features [5.7 3.  4.2 1.2]\n",
      "Ejemplo 96: label 1, features [5.7 2.9 4.2 1.3]\n",
      "Ejemplo 97: label 1, features [6.2 2.9 4.3 1.3]\n",
      "Ejemplo 98: label 1, features [5.1 2.5 3.  1.1]\n",
      "Ejemplo 99: label 1, features [5.7 2.8 4.1 1.3]\n",
      "Ejemplo 100: label 2, features [6.3 3.3 6.  2.5]\n",
      "Ejemplo 101: label 2, features [5.8 2.7 5.1 1.9]\n",
      "Ejemplo 102: label 2, features [7.1 3.  5.9 2.1]\n",
      "Ejemplo 103: label 2, features [6.3 2.9 5.6 1.8]\n",
      "Ejemplo 104: label 2, features [6.5 3.  5.8 2.2]\n",
      "Ejemplo 105: label 2, features [7.6 3.  6.6 2.1]\n",
      "Ejemplo 106: label 2, features [4.9 2.5 4.5 1.7]\n",
      "Ejemplo 107: label 2, features [7.3 2.9 6.3 1.8]\n",
      "Ejemplo 108: label 2, features [6.7 2.5 5.8 1.8]\n",
      "Ejemplo 109: label 2, features [7.2 3.6 6.1 2.5]\n",
      "Ejemplo 110: label 2, features [6.5 3.2 5.1 2. ]\n",
      "Ejemplo 111: label 2, features [6.4 2.7 5.3 1.9]\n",
      "Ejemplo 112: label 2, features [6.8 3.  5.5 2.1]\n",
      "Ejemplo 113: label 2, features [5.7 2.5 5.  2. ]\n",
      "Ejemplo 114: label 2, features [5.8 2.8 5.1 2.4]\n",
      "Ejemplo 115: label 2, features [6.4 3.2 5.3 2.3]\n",
      "Ejemplo 116: label 2, features [6.5 3.  5.5 1.8]\n",
      "Ejemplo 117: label 2, features [7.7 3.8 6.7 2.2]\n",
      "Ejemplo 118: label 2, features [7.7 2.6 6.9 2.3]\n",
      "Ejemplo 119: label 2, features [6.  2.2 5.  1.5]\n",
      "Ejemplo 120: label 2, features [6.9 3.2 5.7 2.3]\n",
      "Ejemplo 121: label 2, features [5.6 2.8 4.9 2. ]\n",
      "Ejemplo 122: label 2, features [7.7 2.8 6.7 2. ]\n",
      "Ejemplo 123: label 2, features [6.3 2.7 4.9 1.8]\n",
      "Ejemplo 124: label 2, features [6.7 3.3 5.7 2.1]\n",
      "Ejemplo 125: label 2, features [7.2 3.2 6.  1.8]\n",
      "Ejemplo 126: label 2, features [6.2 2.8 4.8 1.8]\n",
      "Ejemplo 127: label 2, features [6.1 3.  4.9 1.8]\n",
      "Ejemplo 128: label 2, features [6.4 2.8 5.6 2.1]\n",
      "Ejemplo 129: label 2, features [7.2 3.  5.8 1.6]\n",
      "Ejemplo 130: label 2, features [7.4 2.8 6.1 1.9]\n",
      "Ejemplo 131: label 2, features [7.9 3.8 6.4 2. ]\n",
      "Ejemplo 132: label 2, features [6.4 2.8 5.6 2.2]\n",
      "Ejemplo 133: label 2, features [6.3 2.8 5.1 1.5]\n",
      "Ejemplo 134: label 2, features [6.1 2.6 5.6 1.4]\n",
      "Ejemplo 135: label 2, features [7.7 3.  6.1 2.3]\n",
      "Ejemplo 136: label 2, features [6.3 3.4 5.6 2.4]\n",
      "Ejemplo 137: label 2, features [6.4 3.1 5.5 1.8]\n",
      "Ejemplo 138: label 2, features [6.  3.  4.8 1.8]\n",
      "Ejemplo 139: label 2, features [6.9 3.1 5.4 2.1]\n",
      "Ejemplo 140: label 2, features [6.7 3.1 5.6 2.4]\n",
      "Ejemplo 141: label 2, features [6.9 3.1 5.1 2.3]\n",
      "Ejemplo 142: label 2, features [5.8 2.7 5.1 1.9]\n",
      "Ejemplo 143: label 2, features [6.8 3.2 5.9 2.3]\n",
      "Ejemplo 144: label 2, features [6.7 3.3 5.7 2.5]\n",
      "Ejemplo 145: label 2, features [6.7 3.  5.2 2.3]\n",
      "Ejemplo 146: label 2, features [6.3 2.5 5.  1.9]\n",
      "Ejemplo 147: label 2, features [6.5 3.  5.2 2. ]\n",
      "Ejemplo 148: label 2, features [6.2 3.4 5.4 2.3]\n",
      "Ejemplo 149: label 2, features [5.9 3.  5.1 1.8]\n"
     ]
    }
   ],
   "source": [
    "#Arbol de Desicion en Python\n",
    "\n",
    "#Codigo extraido del siguiente tutorial:\n",
    "#    https://www.youtube.com/watch?v=tNa99PG8hR8\n",
    "\n",
    "#Utilizaremos el clasico dataset de Iris\n",
    "\n",
    "#set de datos\n",
    "from sklearn.datasets import load_iris\n",
    "iris=load_iris()\n",
    "print(iris.feature_names)\n",
    "print(iris.target_names)\n",
    "print(iris.data[0])\n",
    "print(iris.target[0])\n",
    "for i in range(len(iris.target)):\n",
    "    print(\"Ejemplo %d: label %s, features %s\" % (i,iris.target[i],iris.data[i]))"
   ]
  },
  {
   "cell_type": "code",
   "execution_count": 7,
   "metadata": {},
   "outputs": [
    {
     "data": {
      "text/plain": [
       "DecisionTreeClassifier(class_weight=None, criterion='gini', max_depth=None,\n",
       "            max_features=None, max_leaf_nodes=None,\n",
       "            min_impurity_decrease=0.0, min_impurity_split=None,\n",
       "            min_samples_leaf=1, min_samples_split=2,\n",
       "            min_weight_fraction_leaf=0.0, presort=False, random_state=None,\n",
       "            splitter='best')"
      ]
     },
     "execution_count": 7,
     "metadata": {},
     "output_type": "execute_result"
    }
   ],
   "source": [
    "import numpy as np\n",
    "from sklearn.tree import DecisionTreeClassifier\n",
    "test_idx=[0,50,100]\n",
    "\n",
    "#Set de entrenamiento\n",
    "train_target = np.delete(iris.target,test_idx)\n",
    "train_data = np.delete(iris.data,test_idx,axis = 0)\n",
    "\n",
    "#Set de prueba\n",
    "test_target = iris.target[test_idx]\n",
    "test_data = iris.data[test_idx]\n",
    "\n",
    "arbol = DecisionTreeClassifier()\n",
    "arbol.fit(train_data,train_target)"
   ]
  },
  {
   "cell_type": "code",
   "execution_count": 8,
   "metadata": {},
   "outputs": [
    {
     "name": "stdout",
     "output_type": "stream",
     "text": [
      "[0 1 2]\n",
      "[0 1 2]\n"
     ]
    }
   ],
   "source": [
    "print(test_target)\n",
    "print(arbol.predict(test_data))"
   ]
  },
  {
   "cell_type": "code",
   "execution_count": 10,
   "metadata": {},
   "outputs": [
    {
     "ename": "ModuleNotFoundError",
     "evalue": "No module named 'pydot'",
     "output_type": "error",
     "traceback": [
      "\u001b[0;31m---------------------------------------------------------------------------\u001b[0m",
      "\u001b[0;31mModuleNotFoundError\u001b[0m                       Traceback (most recent call last)",
      "\u001b[0;32m<ipython-input-10-37fd9ec78ab9>\u001b[0m in \u001b[0;36m<module>\u001b[0;34m()\u001b[0m\n\u001b[1;32m      2\u001b[0m \u001b[0;34m\u001b[0m\u001b[0m\n\u001b[1;32m      3\u001b[0m \u001b[0;32mfrom\u001b[0m \u001b[0msklearn\u001b[0m\u001b[0;34m.\u001b[0m\u001b[0mexternals\u001b[0m\u001b[0;34m.\u001b[0m\u001b[0msix\u001b[0m \u001b[0;32mimport\u001b[0m \u001b[0mStringIO\u001b[0m\u001b[0;34m\u001b[0m\u001b[0m\n\u001b[0;32m----> 4\u001b[0;31m \u001b[0;32mimport\u001b[0m \u001b[0mpydot\u001b[0m\u001b[0;34m\u001b[0m\u001b[0m\n\u001b[0m\u001b[1;32m      5\u001b[0m \u001b[0mdot_data\u001b[0m\u001b[0;34m=\u001b[0m\u001b[0mStringIO\u001b[0m\u001b[0;34m(\u001b[0m\u001b[0;34m)\u001b[0m\u001b[0;34m\u001b[0m\u001b[0m\n\u001b[1;32m      6\u001b[0m tree.export_graphviz(arbol,\n",
      "\u001b[0;31mModuleNotFoundError\u001b[0m: No module named 'pydot'"
     ]
    }
   ],
   "source": [
    "#Visualicemos el arbol de desicion\n",
    "\n",
    "from sklearn.externals.six import StringIO\n",
    "import pydot\n",
    "dot_data=StringIO()\n",
    "tree.export_graphviz(arbol,\n",
    "                     out_file=dot_data,\n",
    "                     feature_names=iris.feature_names,\n",
    "                     class_names=iris.target_names,\n",
    "                     filled=True,\n",
    "                     rounded=True,\n",
    "                     impurity=False)\n",
    "graph=pydot.graph_from_dot_data(dot_data.getvalue())\n",
    "graph.write_pdf(\"iris.pdf\")"
   ]
  },
  {
   "cell_type": "code",
   "execution_count": 13,
   "metadata": {},
   "outputs": [
    {
     "name": "stdout",
     "output_type": "stream",
     "text": [
      "[5.1 3.5 1.4 0.2] 0\n",
      "['sepal length (cm)', 'sepal width (cm)', 'petal length (cm)', 'petal width (cm)'] ['setosa' 'versicolor' 'virginica']\n"
     ]
    }
   ],
   "source": [
    "print(test_data[0],test_target[0])\n",
    "print(iris.feature_names,iris.target_names)"
   ]
  },
  {
   "cell_type": "code",
   "execution_count": 14,
   "metadata": {},
   "outputs": [
    {
     "name": "stdout",
     "output_type": "stream",
     "text": [
      "[7.  3.2 4.7 1.4] 1\n",
      "['sepal length (cm)', 'sepal width (cm)', 'petal length (cm)', 'petal width (cm)'] ['setosa' 'versicolor' 'virginica']\n"
     ]
    }
   ],
   "source": [
    "print(test_data[1],test_target[1])\n",
    "print(iris.feature_names,iris.target_names)"
   ]
  }
 ],
 "metadata": {
  "kernelspec": {
   "display_name": "Python 3",
   "language": "python",
   "name": "python3"
  },
  "language_info": {
   "codemirror_mode": {
    "name": "ipython",
    "version": 3
   },
   "file_extension": ".py",
   "mimetype": "text/x-python",
   "name": "python",
   "nbconvert_exporter": "python",
   "pygments_lexer": "ipython3",
   "version": "3.7.0"
  }
 },
 "nbformat": 4,
 "nbformat_minor": 2
}
